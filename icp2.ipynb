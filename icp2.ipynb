{
  "nbformat": 4,
  "nbformat_minor": 0,
  "metadata": {
    "colab": {
      "provenance": [],
      "authorship_tag": "ABX9TyN02p6kBalzlSWxKy1U2KnQ",
      "include_colab_link": true
    },
    "kernelspec": {
      "name": "python3",
      "display_name": "Python 3"
    },
    "language_info": {
      "name": "python"
    }
  },
  "cells": [
    {
      "cell_type": "markdown",
      "metadata": {
        "id": "view-in-github",
        "colab_type": "text"
      },
      "source": [
        "<a href=\"https://colab.research.google.com/github/revanthalapati03/Whatatripv1/blob/main/icp2.ipynb\" target=\"_parent\"><img src=\"https://colab.research.google.com/assets/colab-badge.svg\" alt=\"Open In Colab\"/></a>"
      ]
    },
    {
      "cell_type": "markdown",
      "source": [
        "Question 1:"
      ],
      "metadata": {
        "id": "goYBSCc1x4Pa"
      }
    },
    {
      "cell_type": "code",
      "execution_count": 4,
      "metadata": {
        "colab": {
          "base_uri": "https://localhost:8080/"
        },
        "id": "umXI0F87tnan",
        "outputId": "66f6c341-362e-40f8-b47c-e7868747d0c4"
      },
      "outputs": [
        {
          "output_type": "stream",
          "name": "stdout",
          "text": [
            "First_name = Revanth\n",
            "Last_name = Alapati\n",
            "Full_name = Revanth Alapati\n"
          ]
        }
      ],
      "source": [
        "def fullname(firstname, lastname):\n",
        "  return firstname+\" \"+ lastname\n",
        "\n",
        "firstname = input(\"First_name = \")\n",
        "lastname = input(\"Last_name = \")\n",
        "print(\"Full_name =\",fullname(firstname, lastname))"
      ]
    },
    {
      "cell_type": "code",
      "source": [
        "def string_alternative(full_name):\n",
        "    return full_name[::2]\n",
        "\n",
        "def main():\n",
        "    Str = \"Good evening\"\n",
        "    output = string_alternative(Str)\n",
        "    print(output)\n",
        "\n",
        "if __name__ == \"__main__\":\n",
        "    main()\n"
      ],
      "metadata": {
        "colab": {
          "base_uri": "https://localhost:8080/"
        },
        "id": "L3jaoZiLvwOP",
        "outputId": "0d4713d8-6abb-485d-c39a-de963478beb6"
      },
      "execution_count": 5,
      "outputs": [
        {
          "output_type": "stream",
          "name": "stdout",
          "text": [
            "Go vnn\n"
          ]
        }
      ]
    },
    {
      "cell_type": "markdown",
      "source": [
        "Question 2:"
      ],
      "metadata": {
        "id": "F0l6qrjwyCB7"
      }
    },
    {
      "cell_type": "code",
      "source": [
        "def count_words(line):\n",
        "    words = line.split()\n",
        "    word_count = {}\n",
        "    for word in words:\n",
        "        if word in word_count:\n",
        "            word_count[word] += 1\n",
        "        else:\n",
        "            word_count[word] = 1\n",
        "    return word_count\n",
        "\n",
        "def main():\n",
        "    input_file = '/content/input.txt'\n",
        "    output_file = 'output.txt'\n",
        "\n",
        "    try:\n",
        "        with open(input_file, 'r') as file:\n",
        "            lines = file.readlines()\n",
        "\n",
        "        with open(output_file, 'w') as file:\n",
        "            for line in lines:\n",
        "                line = line.strip()\n",
        "                if line:\n",
        "                    file.write(line + '\\n')\n",
        "                    file.write('Word_Count:\\n')\n",
        "                    word_count = count_words(line)\n",
        "                    for word, count in word_count.items():\n",
        "                        file.write(f'{word}: {count}\\n')\n",
        "                    file.write('\\n')\n",
        "\n",
        "        print(f'Output written to {output_file}')\n",
        "\n",
        "\n",
        "    except FileNotFoundError:\n",
        "        print(f'Error: File {input_file} not found')\n",
        "\n",
        "if __name__ == '__main__':\n",
        "    main()\n"
      ],
      "metadata": {
        "colab": {
          "base_uri": "https://localhost:8080/"
        },
        "id": "iq8fFHsnxqF5",
        "outputId": "1698488f-3108-4db3-9ec3-992a430493d0"
      },
      "execution_count": 20,
      "outputs": [
        {
          "output_type": "stream",
          "name": "stdout",
          "text": [
            "Output written to output.txt\n"
          ]
        }
      ]
    },
    {
      "cell_type": "markdown",
      "source": [
        "Question 3:"
      ],
      "metadata": {
        "id": "rVOwg6qly9X8"
      }
    },
    {
      "cell_type": "code",
      "source": [
        "def convert_heights_nested(heights_inches):\n",
        "    heights_cm = []\n",
        "    for height in heights_inches:\n",
        "        height_cm = height * 2.54\n",
        "        heights_cm.append(round(height_cm, 2))\n",
        "    return heights_cm\n",
        "\n",
        "heights_inches = [150, 155, 145, 148]\n",
        "heights_cm = convert_heights_nested(heights_inches)\n",
        "print(heights_cm)"
      ],
      "metadata": {
        "colab": {
          "base_uri": "https://localhost:8080/"
        },
        "id": "l8ysI_a_zAOd",
        "outputId": "19b6bbf2-db68-47d4-8ca2-8d95495dca41"
      },
      "execution_count": 15,
      "outputs": [
        {
          "output_type": "stream",
          "name": "stdout",
          "text": [
            "[381.0, 393.7, 368.3, 375.92]\n"
          ]
        }
      ]
    },
    {
      "cell_type": "code",
      "source": [
        "def convert_heights_to_cm_list_comp(heights_inches):\n",
        "    return [height * 2.54 for height in heights_inches]\n",
        "\n",
        "L1 = [150, 155, 145, 148]\n",
        "heights_cm_list_comp = convert_heights_to_cm_list_comp(L1)\n",
        "print(heights_cm_list_comp)"
      ],
      "metadata": {
        "colab": {
          "base_uri": "https://localhost:8080/"
        },
        "id": "7lqR_zPm0EXg",
        "outputId": "9757d3fa-5103-47cd-f5ac-a6fe8e6279be"
      },
      "execution_count": 16,
      "outputs": [
        {
          "output_type": "stream",
          "name": "stdout",
          "text": [
            "[381.0, 393.7, 368.3, 375.92]\n"
          ]
        }
      ]
    }
  ]
}