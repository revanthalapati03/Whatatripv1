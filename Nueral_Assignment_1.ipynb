{
  "cells": [
    {
      "cell_type": "markdown",
      "metadata": {
        "id": "view-in-github",
        "colab_type": "text"
      },
      "source": [
        "<a href=\"https://colab.research.google.com/github/revanthalapati03/Whatatripv1/blob/main/Nueral_Assignment_1.ipynb\" target=\"_parent\"><img src=\"https://colab.research.google.com/assets/colab-badge.svg\" alt=\"Open In Colab\"/></a>"
      ]
    },
    {
      "cell_type": "code",
      "execution_count": null,
      "metadata": {
        "colab": {
          "base_uri": "https://localhost:8080/"
        },
        "id": "j4mqyHepi_S9",
        "outputId": "0cbe91c7-fa47-4afe-b41d-72d5960893ee"
      },
      "outputs": [
        {
          "output_type": "stream",
          "name": "stdout",
          "text": [
            "Enter a string: Python\n",
            "Reversed string is: noht\n"
          ]
        }
      ],
      "source": [
        "P = input(\"Enter a string: \")\n",
        "if len(P) < 2:\n",
        "    print(\"Input string must have at least 2 characters.\")\n",
        "else:\n",
        "    modified = P[2:]\n",
        "\n",
        "    reversed = modified[::-1]\n",
        "\n",
        "    print(\"Reversed string is:\",reversed)"
      ]
    },
    {
      "cell_type": "code",
      "execution_count": null,
      "metadata": {
        "colab": {
          "base_uri": "https://localhost:8080/"
        },
        "id": "LXkDBGkIjtQm",
        "outputId": "6d0cdd5d-5721-4fc3-f01f-3e46a28f99fa"
      },
      "outputs": [
        {
          "output_type": "stream",
          "name": "stdout",
          "text": [
            "Enter first number: 30\n",
            "Enter second number: 10\n",
            "Multiplication: 300.0\n",
            "Division: 3.0\n",
            "Addition: 40.0\n",
            "Subtraction: 20.0\n"
          ]
        }
      ],
      "source": [
        "A = float(input(\"Enter first number: \"))\n",
        "B = float(input(\"Enter second number: \"))\n",
        "print(\"Multiplication:\", A*B)\n",
        "print(\"Division:\", A/B)\n",
        "print(\"Addition:\", A+B)\n",
        "print(\"Subtraction:\", A-B)"
      ]
    },
    {
      "cell_type": "code",
      "execution_count": null,
      "metadata": {
        "colab": {
          "base_uri": "https://localhost:8080/"
        },
        "id": "YIu89CyFj8MZ",
        "outputId": "098dc466-4deb-4318-df71-95f72dd67389"
      },
      "outputs": [
        {
          "output_type": "stream",
          "name": "stdout",
          "text": [
            "Enter a input sentence: I love Playing with Python\n",
            "Modified sentence: I love Playing with Pythons\n"
          ]
        }
      ],
      "source": [
        "input_sentence = input(\"Enter a input sentence: \")\n",
        "\n",
        "modified_sentence = input_sentence.replace('Python','Pythons')\n",
        "\n",
        "print(\"Modified sentence:\", modified_sentence)"
      ]
    },
    {
      "cell_type": "code",
      "execution_count": null,
      "metadata": {
        "colab": {
          "base_uri": "https://localhost:8080/"
        },
        "id": "sjyVw7DLkSMa",
        "outputId": "1cf78c0a-d32e-4486-8f6b-26baec245924"
      },
      "outputs": [
        {
          "output_type": "stream",
          "name": "stdout",
          "text": [
            "Enter class score82\n",
            "Grade: B\n"
          ]
        }
      ],
      "source": [
        "score = int(input(\"Enter class score\"))\n",
        "if(score>=90):\n",
        "  print(\"Grade: A\")\n",
        "elif(score>=80 and score<90):\n",
        "  print(\"Grade: B\")\n",
        "elif(score>=70 and score<80):\n",
        "  print(\"Grade: C\")\n",
        "elif(score>=60 and score<70):\n",
        "  print(\"Grade: D\")\n",
        "else:\n",
        "  print(\"F\")"
      ]
    }
  ],
  "metadata": {
    "colab": {
      "provenance": [],
      "include_colab_link": true
    },
    "kernelspec": {
      "display_name": "Python 3",
      "name": "python3"
    },
    "language_info": {
      "name": "python"
    }
  },
  "nbformat": 4,
  "nbformat_minor": 0
}